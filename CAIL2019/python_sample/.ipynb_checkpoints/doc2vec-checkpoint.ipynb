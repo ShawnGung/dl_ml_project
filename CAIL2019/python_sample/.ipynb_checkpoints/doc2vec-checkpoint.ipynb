{
 "cells": [
  {
   "cell_type": "code",
   "execution_count": 1,
   "metadata": {},
   "outputs": [],
   "source": [
    "from gensim.models.doc2vec import Doc2Vec, TaggedDocument\n",
    "from gensim import utils\n",
    "# random\n",
    "import random\n",
    "\n",
    "# numpy\n",
    "import re\n",
    "import numpy\n",
    "import gensim, logging\n",
    "import os\n",
    "import jieba\n",
    "import json\n",
    "\n",
    "# classifier\n",
    "from sklearn.linear_model import LogisticRegression\n",
    "from sklearn.svm import  LinearSVC\n",
    "from config import *"
   ]
  },
  {
   "cell_type": "code",
   "execution_count": 2,
   "metadata": {},
   "outputs": [],
   "source": [
    "def filter(line):\n",
    "    #剔除日期\n",
    "    data_regex = re.compile(u\"\"\"        #utf-8编码\n",
    "        年 |\n",
    "        月 |\n",
    "        日 |\n",
    "        (周一) |\n",
    "        (周二) | \n",
    "        (周三) | \n",
    "        (周四) | \n",
    "        (周五) | \n",
    "        (周六)\n",
    "    \"\"\", re.VERBOSE)\n",
    "    #剔除所有数字\n",
    "    decimal_regex = re.compile(r\"[^a-zA-Z]\\d+\")\n",
    "\n",
    "    line = data_regex.sub(r\"\", line)\n",
    "    line = decimal_regex.sub(r\"\", line)\n",
    "\n",
    "    return line\n",
    "\n",
    "def trans(sentence,cutwordslist = None):\n",
    "    texts_cut = [word for word in jieba.lcut(filter(sentence)) if len(word) > 1]\n",
    "    outstr = ' '.join(texts_cut)\n",
    "    return outstr"
   ]
  },
  {
   "cell_type": "code",
   "execution_count": 3,
   "metadata": {},
   "outputs": [],
   "source": [
    "def saveTxt():\n",
    "    se = set()\n",
    "    f = open(\"../input/input.txt\", \"r\", encoding=\"utf8\")\n",
    "    for line in f:\n",
    "        x = json.loads(line)\n",
    "        se.add(x[\"A\"])\n",
    "        se.add(x[\"B\"])\n",
    "        se.add(x[\"C\"])\n",
    "        \n",
    "    new_file = open(\"../input/new_input.txt\", 'a',encoding=\"utf8\")\n",
    "    cutwordslist = []\n",
    "    data = list(se)\n",
    "    for a in range(0, len(data)):\n",
    "        data[a] = trans(data[a],cutwordslist)\n",
    "        \n",
    "        \n",
    "        #打开fie_name路径下的my_infor.txt文件,采用追加模式\n",
    "        #若文件不存在,创建，若存在，追加\n",
    "        new_file.write(data[a] + '\\n')\n",
    "    new_file.close()"
   ]
  },
  {
   "cell_type": "code",
   "execution_count": 4,
   "metadata": {},
   "outputs": [
    {
     "name": "stderr",
     "output_type": "stream",
     "text": [
      "Building prefix dict from the default dictionary ...\n",
      "Loading model from cache /var/folders/8j/p8231m8944s1l43bpl8h5t780000gn/T/jieba.cache\n",
      "Loading model cost 0.941 seconds.\n",
      "Prefix dict has been built succesfully.\n"
     ]
    }
   ],
   "source": [
    "saveTxt()"
   ]
  },
  {
   "cell_type": "code",
   "execution_count": 5,
   "metadata": {},
   "outputs": [],
   "source": [
    "class TaggedLineSentence(object):\n",
    "    def __init__(self, sources):\n",
    "        self.sources = sources\n",
    "        flipped = {}\n",
    "        self.tagToText = dict()\n",
    "\n",
    "        # make sure that keys are unique\n",
    "        for key, value in sources.items():\n",
    "            if value not in flipped:\n",
    "                flipped[value] = [key]\n",
    "            else:\n",
    "                raise Exception('Non-unique prefix encountered')\n",
    "\n",
    "    def __iter__(self):\n",
    "        for source, prefix in self.sources.items():\n",
    "            with utils.smart_open(source) as fin:\n",
    "                for item_no, line in enumerate(fin):\n",
    "                    yield TaggedDocument(utils.to_unicode(line).split(), [prefix + '_%s' % item_no])\n",
    "\n",
    "    def to_array(self):\n",
    "        self.sentences = []\n",
    "        for source, prefix in self.sources.items():\n",
    "            with utils.smart_open(source) as fin:\n",
    "                for item_no, line in enumerate(fin):\n",
    "                    text = utils.to_unicode(line).split()\n",
    "                    tag = prefix + '_%s' % item_no\n",
    "                    self.sentences.append(TaggedDocument(text, [tag]))\n",
    "                    self.tagToText[tag] = text\n",
    "        return(self.sentences)\n",
    "\n",
    "    def sentences_perm(self):\n",
    "        shuffled = list(self.sentences)\n",
    "        random.shuffle(shuffled)\n",
    "        return(shuffled)"
   ]
  },
  {
   "cell_type": "code",
   "execution_count": 6,
   "metadata": {},
   "outputs": [],
   "source": [
    "sources = {'../input/new_input.txt':'TRAIN'}\n",
    "\n",
    "sentences = TaggedLineSentence(sources)\n",
    "model = Doc2Vec(min_count=1, window=5, vector_size=300, sample=1e-4, negative=5, workers=7)\n",
    "model.build_vocab(sentences.to_array())\n",
    "model.train(sentences.sentences_perm(), epochs=500, total_examples=model.corpus_count)"
   ]
  },
  {
   "cell_type": "code",
   "execution_count": 7,
   "metadata": {},
   "outputs": [
    {
     "data": {
      "text/plain": [
       "[('同期', 0.47985801100730896),\n",
       " ('总额', 0.2774684429168701),\n",
       " ('同时', 0.25237178802490234),\n",
       " ('金元', 0.23723691701889038),\n",
       " ('连带责任', 0.2223302721977234),\n",
       " ('由林', 0.21508949995040894),\n",
       " ('陆万整', 0.21326163411140442),\n",
       " ('宜兴市', 0.2066938430070877),\n",
       " ('借林', 0.20524561405181885),\n",
       " ('给予', 0.20379477739334106)]"
      ]
     },
     "execution_count": 7,
     "metadata": {},
     "output_type": "execute_result"
    }
   ],
   "source": [
    "model.wv.most_similar('贷款')  "
   ]
  },
  {
   "cell_type": "code",
   "execution_count": 8,
   "metadata": {},
   "outputs": [
    {
     "data": {
      "text/plain": [
       "array([-0.07105547, -0.5514744 , -1.3815668 , -0.30920324,  0.419905  ,\n",
       "        0.7481243 , -0.22501722,  0.06082957, -0.07650849, -0.6111976 ,\n",
       "        0.38872135,  0.7851804 , -0.4891173 ,  0.26068193,  1.0351125 ,\n",
       "       -0.2942871 , -0.39397097,  0.8647109 ,  0.23736158, -0.18593936,\n",
       "       -0.53098226, -0.44317022, -1.0843831 ,  0.1836439 , -0.7221874 ,\n",
       "       -0.08766329, -0.9867249 , -0.93339616,  0.36939582, -0.01646811,\n",
       "       -1.7189782 , -0.2696294 , -0.26376736, -0.1184735 , -0.15226978,\n",
       "        0.68508404,  0.39888588,  1.5501564 ,  1.7149568 , -0.21968973,\n",
       "       -0.62576294,  1.9255449 , -0.441987  ,  1.3282878 ,  0.7331066 ,\n",
       "        0.6682835 , -0.50708836,  0.5057775 ,  0.2594007 , -0.03809353,\n",
       "        0.5790842 ,  0.48507023, -0.6108681 ,  1.0173814 , -0.21769576,\n",
       "       -0.27411017,  0.74233353, -0.94042605,  0.34010532,  0.16808736,\n",
       "       -0.35117093,  0.04566655, -1.653496  , -0.8468383 ,  0.32520047,\n",
       "        0.12588097,  1.0676522 , -0.96477664,  0.39762583,  1.3029625 ,\n",
       "       -0.10910045,  1.2983602 , -0.43528506, -0.6772755 ,  0.03048436,\n",
       "        0.5407073 ,  1.1882101 , -1.2296752 , -0.3810684 ,  0.2221529 ,\n",
       "        0.78614837, -0.3014181 , -0.4961966 , -0.03957075,  1.47009   ,\n",
       "       -1.6194003 , -1.0936424 , -0.6467883 , -0.99778   , -0.39636713,\n",
       "        1.9117922 , -0.11081377, -0.3707886 ,  0.32709342,  0.5860281 ,\n",
       "       -0.15228854,  1.0396361 , -0.42774332, -0.05196583, -0.25295377,\n",
       "        0.08508857, -0.18119544, -1.4874611 ,  0.02421766, -0.12076055,\n",
       "       -0.4768343 ,  1.1624038 ,  0.0234842 , -0.25398803, -1.0501602 ,\n",
       "       -1.0044549 , -0.0271985 ,  0.39710164, -0.29555336,  0.1109179 ,\n",
       "        0.8777765 , -0.01049421, -0.7494734 ,  0.25442103, -0.66978496,\n",
       "        0.4037583 , -0.07517125,  0.526384  ,  1.0090064 ,  0.45528796,\n",
       "        1.1281719 , -0.35450503, -1.3296434 , -0.32684326, -0.9889332 ,\n",
       "        0.6792923 ,  1.9309574 , -0.35495973, -0.42233756, -0.96554303,\n",
       "       -0.08983473, -0.29884255, -1.1498678 , -0.10014776,  0.96114075,\n",
       "       -0.39723188, -0.2091619 , -0.7037556 , -0.0277001 ,  0.00897953,\n",
       "       -1.6169208 ,  0.48857793,  0.9474702 ,  1.1112509 , -0.20267339,\n",
       "       -0.42497197, -0.25770077,  0.07161392, -0.34015048, -0.45787498,\n",
       "        0.05025914, -0.2449838 , -0.6000341 ,  0.91040546,  0.09436385,\n",
       "        1.3814703 , -0.15068272,  0.40667984, -0.34769806, -0.3317567 ,\n",
       "        1.2607895 , -0.49424702,  0.33473554, -0.9222479 ,  0.08778854,\n",
       "       -0.54279965, -1.0408    , -1.4833689 ,  0.808868  , -1.9821376 ,\n",
       "        0.16357727, -0.48810816, -0.0340018 , -0.59525776, -0.14138772,\n",
       "        0.54148805, -0.38071412, -1.0244528 ,  0.09459887, -0.3676461 ,\n",
       "        0.15692513,  0.3766069 , -0.3449477 ,  0.9865593 ,  0.79018134,\n",
       "       -0.17445791,  2.747112  ,  1.361897  ,  1.574322  , -0.73151696,\n",
       "       -0.4113236 ,  0.02093861,  0.00296823,  0.7302119 ,  0.4317195 ,\n",
       "        0.78673995,  0.41183406,  0.15410985, -1.076604  ,  0.0554511 ,\n",
       "        0.36271146, -0.26962268, -0.85917693,  0.7285443 , -0.84684604,\n",
       "       -0.07489873, -1.8472447 ,  0.23866586, -1.6586596 ,  0.07930825,\n",
       "       -0.3013171 ,  0.80936056, -0.27773896,  0.32821783, -0.06089675,\n",
       "       -0.29683128,  0.04391227, -0.4061676 , -0.18772626, -0.02707545,\n",
       "       -1.3099798 ,  0.13428524, -0.09845246, -0.37251505, -0.85870516,\n",
       "       -0.5678676 , -0.51015   ,  0.21517575, -0.12297156,  0.04446707,\n",
       "        0.01085672, -0.91030145, -0.5962602 , -0.47844124,  0.5706031 ,\n",
       "        0.5129822 ,  0.06810226,  1.4740945 , -0.23811865,  1.4694048 ,\n",
       "        0.10602079,  0.4783222 ,  0.1381514 ,  0.23961788, -0.08041681,\n",
       "        1.5504047 ,  0.23991583, -0.81340843,  1.4239042 , -1.1764458 ,\n",
       "       -0.05392399, -1.6507803 ,  0.82739705, -0.96954244, -0.9069947 ,\n",
       "       -0.94275975, -0.06281446, -0.66179633, -0.4431293 , -0.16718759,\n",
       "        1.4263505 , -0.3514492 , -0.33327186,  0.08892672, -0.8887868 ,\n",
       "        0.9053113 ,  1.381655  , -0.71259147,  0.31165516,  0.02075882,\n",
       "       -0.4213391 ,  0.8155796 , -0.07106696, -1.7623129 ,  0.66503114,\n",
       "       -0.9660327 , -1.8765327 ,  0.79003334,  0.07118215,  0.93778163,\n",
       "       -0.81283236,  0.51179534, -0.02236521,  1.8589531 ,  0.25688943,\n",
       "       -0.32616875,  0.6528598 ,  0.6564736 , -0.25206807, -1.4516858 ,\n",
       "        0.7771102 ,  0.6921344 ,  0.6096224 ,  0.33190447,  0.17371953],\n",
       "      dtype=float32)"
      ]
     },
     "execution_count": 8,
     "metadata": {},
     "output_type": "execute_result"
    }
   ],
   "source": [
    "prefix_train_pos = 'TRAIN_' + str(0)\n",
    "model[prefix_train_pos]"
   ]
  },
  {
   "cell_type": "code",
   "execution_count": 9,
   "metadata": {},
   "outputs": [
    {
     "name": "stdout",
     "output_type": "stream",
     "text": [
      "原告 出生 汉族 农民 蒲城县 山镇 被告 出生 汉族 农民 蒲城县 山镇 原告 屈向 本院 提出 诉讼请求 请求 判令 被告 立即 清偿 原告 借款 本元及 利息 按利 计算 清偿 案件 受理费 被告 承担 事实 理由 被告 同村 村民 被告 安以 生意 资金周转 困难 原告 借元 双方 口头 约定 借款 期限 借款 到期 被告 并未 履行 还款 义务 被告 安未作 答辩 原告 支持 主张 本院 提供 被告 署名 借条 一张 屈晓辉 证人 证言 用以 证明 被告 原元 事实 被告 安未 提供 证据 被告 安经 传唤 到庭 提供 答辩 质证 意见 视为 自己 质证 权利 放弃 原告 提供 证据 真实 合法 两份 证据 之间 能够 相互 印证 可以 作为 定案 依据 根据 认定 证据 以及 当事人 庭审 陈述 能够 查明 以下 案件 事实 被告 曾系 同事 关系 被告 资金周转 困难 原告 借款 原告 当时 旬阳 尧柏 水泥厂 上班 支付宝 转账 形式 案外人 屈晓辉 转元 委托 屈晓辉 交于 被告 被告 原告 出具 借条 屈晓辉 交于 被告 被告 原告 出具 借条 一张 交由 屈晓辉 内容 借条 今借 屈壹 万元 整元整 身份证号 借款 时未 约定 利息 双方 口头 约定 还款 期限\n"
     ]
    }
   ],
   "source": [
    "print(' '.join(sentences.tagToText[prefix_train_pos]))"
   ]
  },
  {
   "cell_type": "code",
   "execution_count": 10,
   "metadata": {},
   "outputs": [
    {
     "name": "stdout",
     "output_type": "stream",
     "text": [
      "['原告', '出生', '汉族', '农民', '蒲城县', '山镇', '被告', '出生', '汉族', '农民', '蒲城县', '山镇', '原告', '屈向', '本院', '提出', '诉讼请求', '请求', '判令', '被告', '立即', '清偿', '原告', '借款', '本元及', '利息', '按利', '计算', '清偿', '案件', '受理费', '被告', '承担', '事实', '理由', '被告', '同村', '村民', '被告', '安以', '生意', '资金周转', '困难', '原告', '借元', '双方', '口头', '约定', '借款', '期限', '借款', '到期', '被告', '并未', '履行', '还款', '义务', '被告', '安未作', '答辩', '原告', '支持', '主张', '本院', '提供', '被告', '署名', '借条', '一张', '屈晓辉', '证人', '证言', '用以', '证明', '被告', '原元', '事实', '被告', '安未', '提供', '证据', '被告', '安经', '传唤', '到庭', '提供', '答辩', '质证', '意见', '视为', '自己', '质证', '权利', '放弃', '原告', '提供', '证据', '真实', '合法', '两份', '证据', '之间', '能够', '相互', '印证', '可以', '作为', '定案', '依据', '根据', '认定', '证据', '以及', '当事人', '庭审', '陈述', '能够', '查明', '以下', '案件', '事实', '被告', '曾系', '同事', '关系', '被告', '资金周转', '困难', '原告', '借款', '原告', '当时', '旬阳', '尧柏', '水泥厂', '上班', '支付宝', '转账', '形式', '案外人', '屈晓辉', '转元', '委托', '屈晓辉', '交于', '被告', '被告', '原告', '出具', '借条', '屈晓辉', '交于', '被告', '被告', '原告', '出具', '借条', '一张', '交由', '屈晓辉', '内容', '借条', '今借', '屈壹', '万元', '整元整', '身份证号', '借款', '时未', '约定', '利息', '双方', '口头', '约定', '还款', '期限']\n"
     ]
    }
   ],
   "source": [
    "text = ' '.join(sentences.tagToText[prefix_train_pos])\n",
    "tokens = text.split()\n",
    "print(tokens)"
   ]
  },
  {
   "cell_type": "code",
   "execution_count": 11,
   "metadata": {},
   "outputs": [],
   "source": [
    "new_vector = model.infer_vector(tokens)"
   ]
  },
  {
   "cell_type": "code",
   "execution_count": 12,
   "metadata": {},
   "outputs": [],
   "source": [
    "model.save(os.path.join(MODEL_PATH,DOC2VEC))"
   ]
  },
  {
   "cell_type": "code",
   "execution_count": 13,
   "metadata": {},
   "outputs": [],
   "source": [
    "model = Doc2Vec.load(os.path.join(MODEL_PATH,DOC2VEC))  # you can continue training with the loaded model!"
   ]
  }
 ],
 "metadata": {
  "kernelspec": {
   "display_name": "Python 3",
   "language": "python",
   "name": "python3"
  },
  "language_info": {
   "codemirror_mode": {
    "name": "ipython",
    "version": 3
   },
   "file_extension": ".py",
   "mimetype": "text/x-python",
   "name": "python",
   "nbconvert_exporter": "python",
   "pygments_lexer": "ipython3",
   "version": "3.6.8"
  }
 },
 "nbformat": 4,
 "nbformat_minor": 2
}
