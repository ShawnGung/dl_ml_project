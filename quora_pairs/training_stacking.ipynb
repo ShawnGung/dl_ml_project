{
 "cells": [
  {
   "cell_type": "markdown",
   "metadata": {},
   "source": [
    "### [(LSTM + leaky feature) + handcrafted_Feature] -> xgboost"
   ]
  },
  {
   "cell_type": "code",
   "execution_count": 1,
   "metadata": {},
   "outputs": [],
   "source": [
    "import torch.nn as nn\n",
    "import torch\n",
    "import numpy as np\n",
    "import pandas as pd\n",
    "import datetime, time, json\n",
    "from sklearn.model_selection import train_test_split\n",
    "from torch.utils.data import Dataset, DataLoader\n",
    "from torch.optim import Adam\n",
    "import os\n",
    "import torch.nn.functional as F\n",
    "from collections import defaultdict\n",
    "from sklearn.preprocessing import StandardScaler\n",
    "from tqdm import tqdm\n",
    "\n",
    "from config import *"
   ]
  },
  {
   "cell_type": "code",
   "execution_count": 2,
   "metadata": {},
   "outputs": [],
   "source": [
    "MODEL_WEIGHTS_FILE = 'question_pairs_weights.h5'\n",
    "MAX_SEQUENCE_LENGTH = 25\n",
    "EMBEDDING_DIM = 300\n",
    "VALIDATION_SPLIT = 0.1\n",
    "TEST_SPLIT = 0.1\n",
    "RNG_SEED = 1996\n",
    "NB_EPOCHS = 25\n",
    "DROPOUT = 0.2\n",
    "BATCH_SIZE = 1024\n",
    "LSTM_HIDDEN = 128\n",
    "NUM_LAYERS = 2\n",
    "MODEL_NAME = 'best_model.pt'\n",
    "MODEL_PATH = 'data/model'\n",
    "DENSE_HIDDEN = 128\n",
    "FEATURE_NUM = 3 # leaky_feature = 3 , all magic_features = 15 , all feature = 18"
   ]
  },
  {
   "cell_type": "code",
   "execution_count": 3,
   "metadata": {},
   "outputs": [],
   "source": [
    "# 判断gpu是否可用\n",
    "if torch.cuda.is_available():\n",
    "    device = 'cuda'\n",
    "else:\n",
    "    device = 'cpu'\n",
    "DEVICE = torch.device(device)"
   ]
  },
  {
   "cell_type": "markdown",
   "metadata": {},
   "source": [
    "### 加载已保存好的数据集"
   ]
  },
  {
   "cell_type": "code",
   "execution_count": 4,
   "metadata": {},
   "outputs": [],
   "source": [
    "train_q1_data = np.load(open(Q1_TRAINING_DATA_FILE, 'rb'))\n",
    "train_q2_data = np.load(open(Q2_TRAINING_DATA_FILE, 'rb'))\n",
    "nlp_feature_train = pd.read_csv(FEATURE_TRAIN).values\n",
    "leaky_feature_train = np.load(open(LEAKY_FEATURE_TRAIN, 'rb'))\n",
    "\n",
    "test_q1_data = np.load(open(Q1_TEST_DATA_FILE, 'rb'))\n",
    "test_q2_data = np.load(open(Q2_TEST_DATA_FILE, 'rb'))\n",
    "nlp_feature_test = pd.read_csv(FEATURE_TEST).values\n",
    "leaky_feature_test = np.load(open(LEAKY_FEATURE_TEST, 'rb'))\n",
    "\n",
    "labels = np.load(open(LABEL_TRAINING_DATA_FILE, 'rb'))\n",
    "word_embedding_matrix = np.load(open(WORD_EMBEDDING_MATRIX_FILE, 'rb'))\n",
    "with open(NB_WORDS_DATA_FILE, 'r') as f:\n",
    "    NB_WORDS = json.load(f)['nb_words']"
   ]
  },
  {
   "cell_type": "markdown",
   "metadata": {},
   "source": [
    "### 获取最后预测集"
   ]
  },
  {
   "cell_type": "code",
   "execution_count": 5,
   "metadata": {},
   "outputs": [],
   "source": [
    "predict_X = np.stack((test_q1_data, test_q2_data), axis=1)\n",
    "\n",
    "predict_X_Q1 = predict_X[:,0]\n",
    "predict_X_Q2 = predict_X[:,1]\n",
    "nlp_predict_feature = nlp_feature_test\n",
    "predict_leaky_feature = leaky_feature_test\n",
    "predict_feature = np.concatenate((nlp_predict_feature,predict_leaky_feature),axis = 1)"
   ]
  },
  {
   "cell_type": "markdown",
   "metadata": {},
   "source": [
    "### 分割验证集"
   ]
  },
  {
   "cell_type": "code",
   "execution_count": 6,
   "metadata": {},
   "outputs": [],
   "source": [
    "part1_x = np.vstack((train_q1_data, train_q2_data)) \n",
    "part2_x = np.vstack((train_q2_data, train_q1_data)) #反对称数据集\n",
    "\n",
    "X = np.stack((part1_x, part2_x), axis=1)\n",
    "y = np.concatenate((labels,labels))\n",
    "feature_train = np.concatenate((nlp_feature_train,nlp_feature_train))\n",
    "leaky_feature_train = np.concatenate((leaky_feature_train,leaky_feature_train))\n",
    "concate_feature_train = np.concatenate((feature_train,leaky_feature_train),axis = 1)\n",
    "\n",
    "\n",
    "# normalize the features\n",
    "ss = StandardScaler()\n",
    "ss.fit(np.vstack((concate_feature_train, predict_feature)))\n",
    "concate_feature_train = ss.transform(concate_feature_train)\n",
    "predict_feature = ss.transform(predict_feature)\n",
    "\n",
    "\n",
    "Q1_all = X[:,0]\n",
    "Q2_all = X[:,1]\n",
    "y_all = y\n",
    "\n",
    "indices = np.arange(X.shape[0])\n",
    "\n",
    "X_train, X_test, y_train, y_test,idx_train, idx_test = train_test_split(X, y,indices, test_size = TEST_SPLIT, random_state = RNG_SEED)\n",
    "Q1_train = X_train[:,0]\n",
    "Q2_train = X_train[:,1]\n",
    "F_train = feature_train[idx_train]\n",
    "F_test = feature_train[idx_test]\n",
    "leaky_F_train = leaky_feature_train[idx_train]\n",
    "leaky_F_test = leaky_feature_train[idx_test]\n",
    "all_feature_train = concate_feature_train[idx_train]\n",
    "all_feature_test = concate_feature_train[idx_test]\n",
    "\n",
    "Q1_test = X_test[:,0]\n",
    "Q2_test = X_test[:,1]\n",
    "\n",
    "TRAIN_SIZE = X_train.shape[0]\n",
    "TEST_SIZE = X_test.shape[0]"
   ]
  },
  {
   "cell_type": "markdown",
   "metadata": {},
   "source": [
    "### 创建数据集"
   ]
  },
  {
   "cell_type": "code",
   "execution_count": 7,
   "metadata": {},
   "outputs": [],
   "source": [
    "class PointDataSet(Dataset):\n",
    "    def __init__(self,Q1_train,Q2_train,feature,y_train = None):\n",
    "        self.Q1_train=Q1_train\n",
    "        self.Q2_train=Q2_train\n",
    "        self.feature=feature\n",
    "        self.labels=y_train\n",
    "        self.lenth=Q1_train.shape[0]\n",
    "    def __getitem__(self, index):\n",
    "        if self.labels is not None:\n",
    "            return self.Q1_train[index],self.Q2_train[index],self.feature[index],self.labels[index]\n",
    "        else:\n",
    "            return self.Q1_train[index],self.Q2_train[index],self.feature[index]\n",
    "    def __len__(self):\n",
    "        return self.lenth"
   ]
  },
  {
   "cell_type": "code",
   "execution_count": 8,
   "metadata": {},
   "outputs": [],
   "source": [
    "########################################\n",
    "## leaky features\n",
    "########################################\n",
    "\n",
    "# train\n",
    "train_dl_data = PointDataSet(Q1_train, Q2_train,leaky_F_train, y_train)\n",
    "train_dl = DataLoader(dataset=train_dl_data, batch_size=BATCH_SIZE,shuffle=True)\n",
    "# test\n",
    "test_dl_data = PointDataSet(Q1_test, Q2_test,leaky_F_test, y_test)\n",
    "test_dl = DataLoader(dataset=test_dl_data, batch_size=BATCH_SIZE,shuffle=True)\n",
    "#all\n",
    "all_dl_data = PointDataSet(Q1_all, Q2_all,leaky_feature_train, y_all)\n",
    "all_dl = DataLoader(dataset=all_dl_data, batch_size=2048,shuffle=False)\n",
    "# predict\n",
    "predict_data = PointDataSet(predict_X_Q1, predict_X_Q2,predict_leaky_feature)\n",
    "predict_dl = DataLoader(dataset=predict_data, batch_size=2048,shuffle=False)"
   ]
  },
  {
   "cell_type": "markdown",
   "metadata": {},
   "source": [
    "### LSTM模型"
   ]
  },
  {
   "cell_type": "markdown",
   "metadata": {},
   "source": [
    "### LSTM + feature"
   ]
  },
  {
   "cell_type": "code",
   "execution_count": 9,
   "metadata": {},
   "outputs": [],
   "source": [
    "class LSTM_dis_angle(nn.Module):\n",
    "    def __init__(self,pretrained_weight = None,pretrained_embed = False):\n",
    "        super(LSTM_dis_angle, self).__init__()\n",
    "        \n",
    "        if pretrained_embed:\n",
    "            pretrained_weight = torch.FloatTensor(pretrained_weight).to(DEVICE)\n",
    "            self.embed = nn.Embedding.from_pretrained(pretrained_weight,freeze=True)\n",
    "        else:\n",
    "            self.embed = nn.Embedding(NB_WORDS + 1, EMBEDDING_DIM).cuda()\n",
    "        \n",
    "        # input shape: 词向量维度，hidden个数，lstm层数\n",
    "        self.LSTM_stack = nn.LSTM(EMBEDDING_DIM, LSTM_HIDDEN, num_layers=NUM_LAYERS)\n",
    "        for name, param in self.LSTM_stack.named_parameters():\n",
    "            if 'bias' in name:\n",
    "                nn.init.constant_(param, 0.0)\n",
    "            elif 'weight' in name:\n",
    "                nn.init.xavier_normal_(param)\n",
    "                \n",
    "        self.fc1 = nn.Linear(FEATURE_NUM, DENSE_HIDDEN//2)  ##  (max sentence length * hidden layer, 256)\n",
    "        \n",
    "        self.concat_bn = nn.BatchNorm1d(num_features=DENSE_HIDDEN//2 + NUM_LAYERS*2*DENSE_HIDDEN)\n",
    "        self.dp = nn.Dropout(DROPOUT)\n",
    "        \n",
    "        self.fc2 = nn.Linear(DENSE_HIDDEN//2 + NUM_LAYERS*2*DENSE_HIDDEN, DENSE_HIDDEN)\n",
    "        self.bn2 = nn.BatchNorm1d(num_features=DENSE_HIDDEN)\n",
    "        self.dp2 = nn.Dropout(DROPOUT)\n",
    "        \n",
    "        self.fc3 = nn.Linear(DENSE_HIDDEN, 2)\n",
    "\n",
    "    def exponent_neg_manhattan_distance(self, x1, x2):\n",
    "        ''' Helper function for the similarity estimate of the LSTMs outputs '''\n",
    "        return torch.exp(-torch.sum(torch.abs(x1 - x2), dim=1))\n",
    "\n",
    "    def angle(self, x1, x2):\n",
    "        ''' Helper function for the similarity estimate of the LSTMs outputs '''\n",
    "        return torch.bmm(x1,x2)\n",
    "\n",
    "    def forward(self, x1, x2, feature):\n",
    "        # feature : batchsize x 15\n",
    "        x1 = self.embed(x1)\n",
    "        x2 = self.embed(x2)\n",
    "        batch_size = x1.shape[0]\n",
    "        x1 = x1.transpose(0, 1) # L,B,E\n",
    "        x2 = x2.transpose(0, 1) # L,B,E\n",
    "\n",
    "        x1, (hidden_1,_) = self.LSTM_stack(x1)  # L,B,H / NUM_LAYERS,B,H\n",
    "        x2, (hidden_2,_) = self.LSTM_stack(x2)  # L,B,H / NUM_LAYERS,B,H\n",
    "        \n",
    "        hidden_1 = hidden_1.transpose(0,1).contiguous().view(batch_size,-1) # B, NUM_LAYERS * H\n",
    "        hidden_2 = hidden_1.transpose(0,1).contiguous().view(batch_size,-1)# B,  NUM_LAYERS* H\n",
    "        \n",
    "        f = self.fc1(feature) # B,2H\n",
    "        x = torch.cat((hidden_1, hidden_2, f), 1) # (B, DENSE_HIDDEN//2 + NUM_LAYERS*2*DENSE_HIDDEN)\n",
    "        hidden_x = x\n",
    "        x = self.concat_bn(x)\n",
    "        x = self.dp(x)\n",
    "        \n",
    "        x = self.fc2(x)\n",
    "        x = self.bn2(x)\n",
    "        x = self.dp2(x)\n",
    "        x = self.fc3(x)\n",
    "        \n",
    "        return x,hidden_x"
   ]
  },
  {
   "cell_type": "markdown",
   "metadata": {},
   "source": [
    "### 模型保存"
   ]
  },
  {
   "cell_type": "code",
   "execution_count": 10,
   "metadata": {},
   "outputs": [],
   "source": [
    "def save_model(network, path = MODEL_PATH, name=MODEL_NAME):\n",
    "#     torch.save(network, os.path.join(path, name))\n",
    "    state = model.state_dict()\n",
    "    for key in state:\n",
    "        state[key] = state[key].clone().cpu()\n",
    "    torch.save(network.state_dict(),os.path.join(path,name))"
   ]
  },
  {
   "cell_type": "markdown",
   "metadata": {},
   "source": [
    "### 模型预测"
   ]
  },
  {
   "cell_type": "code",
   "execution_count": 11,
   "metadata": {},
   "outputs": [],
   "source": [
    "def predict(network, data_iter):\n",
    "    network = network.to(DEVICE)\n",
    "    network.eval()\n",
    "    predictions = []\n",
    "    shape = 2*NUM_LAYERS*DENSE_HIDDEN + DENSE_HIDDEN//2\n",
    "    F_data = np.array([]).reshape(0,shape)\n",
    "    for each in tqdm(data_iter):\n",
    "        q1 = each[0]\n",
    "        q2 = each[1]\n",
    "        feature = each[2]\n",
    "        q1 = q1.long().to(DEVICE)\n",
    "        q2 = q2.long().to(DEVICE)\n",
    "        feature = feature.float().to(DEVICE)\n",
    "        outputs_1,q1_F = network(q1,q2,feature)\n",
    "        outputs_2,q2_F = network(q2,q1,feature)\n",
    "        \n",
    "        m = nn.Softmax(dim=1)\n",
    "        outputs_1 = m(outputs_1)\n",
    "        outputs_2 = m(outputs_2)\n",
    "        \n",
    "        pred_y_1 = outputs_1.data.cpu().numpy()\n",
    "        pred_y_1 = pred_y_1[:,1] #把是duplicate的概率\n",
    "        \n",
    "        pred_y_2 = outputs_2.data.cpu().numpy()\n",
    "        pred_y_2 = pred_y_2[:,1] #把是duplicate的概率\n",
    "        \n",
    "        pred_y = ((pred_y_1 + pred_y_2)/2).tolist()\n",
    "        predictions += pred_y\n",
    "        q1_F = q1_F.data.cpu().numpy()\n",
    "        q2_F = q2_F.data.cpu().numpy()\n",
    "\n",
    "        avg_F = ((q1_F + q2_F)/2)\n",
    "        F_data = np.vstack((F_data, avg_F))\n",
    "        \n",
    "    return predictions,F_data"
   ]
  },
  {
   "cell_type": "markdown",
   "metadata": {},
   "source": [
    "### 训练函数"
   ]
  },
  {
   "cell_type": "code",
   "execution_count": 12,
   "metadata": {},
   "outputs": [],
   "source": [
    "def train(net,EPOCH,loss_func,optimizer,data_iter,valid_dl,use_valid = True):\n",
    "    \n",
    "    def evaluate_lossAndAcc(data_iter, net):\n",
    "        net.eval()\n",
    "        l_sum ,acc = 0.0 , 0.0\n",
    "        count = 0\n",
    "        for q1,q2,feature,y in data_iter:\n",
    "            #cuda\n",
    "            q1 = q1.long().to(DEVICE)\n",
    "            q2 = q2.long().to(DEVICE)\n",
    "            feature = feature.float().to(DEVICE)\n",
    "            y = y.cuda()\n",
    "            \n",
    "            outputs,_ = net(q1,q2,feature)\n",
    "\n",
    "            #calculate acc\n",
    "            _, pred_y = torch.max(outputs.data, 1)\n",
    "            #calculate sum\n",
    "            l_sum += loss_func(outputs, y).data.cpu().numpy()\n",
    "            \n",
    "            pred_y = pred_y.data.cpu().numpy()\n",
    "            accuracy = float((pred_y == y.data.cpu().numpy()).astype(int).sum()) / float(y.size(0))\n",
    "            acc += accuracy\n",
    "\n",
    "            count+=1\n",
    "        return l_sum / count, acc / count\n",
    "        \n",
    "    best_loss = 100\n",
    "    for epoch in range(1,EPOCH+1):\n",
    "        start = time.time()\n",
    "        train_lsum, n , acc = 0.0, 0, 0.0\n",
    "        for q1,q2,feature,y in data_iter:\n",
    "            net.train()\n",
    "            q1 = q1.long().to(DEVICE)\n",
    "            q2 = q2.long().to(DEVICE)\n",
    "            feature = feature.float().to(DEVICE)\n",
    "            y = y.cuda()\n",
    "            outputs,_ = net(q1, q2, feature)\n",
    "            _, prediction = torch.max(outputs.data, 1)\n",
    "            \n",
    "            optimizer.zero_grad()\n",
    "            loss = loss_func(outputs,y)\n",
    "            loss.backward()\n",
    "            optimizer.step()\n",
    "            train_lsum += loss.data.cpu().numpy()\n",
    "            n+=1\n",
    "            \n",
    "            pred_y = prediction.data.cpu().numpy()\n",
    "            accuracy = float((pred_y == y.data.cpu().numpy()).astype(int).sum()) / float(y.size(0))\n",
    "            acc += accuracy\n",
    "            \n",
    "        if epoch % 1 == 0:\n",
    "            valid_loss,valid_acc = evaluate_lossAndAcc(valid_dl, net)\n",
    "            print(\"epoch %d | train loss : %.4f | valid loss : %.4f | train_acc : %.4f | valid_acc : %.4f | time :%.4f sec\" \n",
    "                       % (epoch, train_lsum / n, valid_loss, acc / n, valid_acc, (time.time() - start)))\n",
    "            if valid_loss < best_loss:\n",
    "                best_loss = valid_loss\n",
    "                save_model(net)"
   ]
  },
  {
   "cell_type": "markdown",
   "metadata": {},
   "source": [
    "### 训练"
   ]
  },
  {
   "cell_type": "code",
   "execution_count": 13,
   "metadata": {},
   "outputs": [
    {
     "name": "stdout",
     "output_type": "stream",
     "text": [
      "training on 727722 samples, validate on 80858 samples\n",
      "epoch 1 | train loss : 0.2821 | valid loss : 0.2688 | train_acc : 0.8071 | valid_acc : 0.8253 | time :16.9390 sec\n",
      "epoch 2 | train loss : 0.2686 | valid loss : 0.2623 | train_acc : 0.8184 | valid_acc : 0.8231 | time :16.9248 sec\n",
      "epoch 3 | train loss : 0.2654 | valid loss : 0.2617 | train_acc : 0.8216 | valid_acc : 0.8246 | time :17.0675 sec\n",
      "epoch 4 | train loss : 0.2634 | valid loss : 0.2600 | train_acc : 0.8231 | valid_acc : 0.8269 | time :16.9671 sec\n",
      "epoch 5 | train loss : 0.2622 | valid loss : 0.2592 | train_acc : 0.8239 | valid_acc : 0.8227 | time :17.1785 sec\n",
      "epoch 6 | train loss : 0.2608 | valid loss : 0.2630 | train_acc : 0.8249 | valid_acc : 0.8334 | time :17.2071 sec\n",
      "epoch 7 | train loss : 0.2599 | valid loss : 0.2594 | train_acc : 0.8253 | valid_acc : 0.8309 | time :17.3195 sec\n",
      "epoch 8 | train loss : 0.2592 | valid loss : 0.2608 | train_acc : 0.8260 | valid_acc : 0.8205 | time :17.2913 sec\n",
      "epoch 9 | train loss : 0.2584 | valid loss : 0.2579 | train_acc : 0.8267 | valid_acc : 0.8335 | time :17.4484 sec\n",
      "epoch 10 | train loss : 0.2577 | valid loss : 0.2574 | train_acc : 0.8273 | valid_acc : 0.8300 | time :17.4809 sec\n",
      "epoch 11 | train loss : 0.2573 | valid loss : 0.2573 | train_acc : 0.8273 | valid_acc : 0.8282 | time :17.3659 sec\n",
      "epoch 12 | train loss : 0.2568 | valid loss : 0.2569 | train_acc : 0.8277 | valid_acc : 0.8264 | time :17.4996 sec\n",
      "epoch 13 | train loss : 0.2560 | valid loss : 0.2580 | train_acc : 0.8283 | valid_acc : 0.8337 | time :17.6206 sec\n",
      "epoch 14 | train loss : 0.2560 | valid loss : 0.2574 | train_acc : 0.8283 | valid_acc : 0.8275 | time :17.5306 sec\n",
      "epoch 15 | train loss : 0.2552 | valid loss : 0.2562 | train_acc : 0.8287 | valid_acc : 0.8280 | time :17.5761 sec\n",
      "epoch 16 | train loss : 0.2548 | valid loss : 0.2595 | train_acc : 0.8291 | valid_acc : 0.8232 | time :17.6801 sec\n",
      "epoch 17 | train loss : 0.2549 | valid loss : 0.2565 | train_acc : 0.8291 | valid_acc : 0.8335 | time :17.6317 sec\n",
      "epoch 18 | train loss : 0.2543 | valid loss : 0.2578 | train_acc : 0.8292 | valid_acc : 0.8355 | time :17.6040 sec\n",
      "epoch 19 | train loss : 0.2542 | valid loss : 0.2566 | train_acc : 0.8294 | valid_acc : 0.8302 | time :17.5187 sec\n",
      "epoch 20 | train loss : 0.2540 | valid loss : 0.2565 | train_acc : 0.8295 | valid_acc : 0.8250 | time :17.6314 sec\n",
      "epoch 21 | train loss : 0.2534 | valid loss : 0.2645 | train_acc : 0.8296 | valid_acc : 0.8407 | time :17.6669 sec\n",
      "epoch 22 | train loss : 0.2532 | valid loss : 0.2559 | train_acc : 0.8301 | valid_acc : 0.8315 | time :17.7309 sec\n",
      "epoch 23 | train loss : 0.2530 | valid loss : 0.2552 | train_acc : 0.8302 | valid_acc : 0.8329 | time :17.6165 sec\n",
      "epoch 24 | train loss : 0.2528 | valid loss : 0.2611 | train_acc : 0.8302 | valid_acc : 0.8373 | time :17.4310 sec\n",
      "epoch 25 | train loss : 0.2525 | valid loss : 0.2563 | train_acc : 0.8306 | valid_acc : 0.8251 | time :17.7454 sec\n",
      "epoch 26 | train loss : 0.2522 | valid loss : 0.2583 | train_acc : 0.8308 | valid_acc : 0.8360 | time :17.7647 sec\n",
      "epoch 27 | train loss : 0.2524 | valid loss : 0.2568 | train_acc : 0.8303 | valid_acc : 0.8351 | time :17.3283 sec\n",
      "epoch 28 | train loss : 0.2519 | valid loss : 0.2559 | train_acc : 0.8309 | valid_acc : 0.8316 | time :17.3918 sec\n",
      "epoch 29 | train loss : 0.2520 | valid loss : 0.2552 | train_acc : 0.8308 | valid_acc : 0.8306 | time :17.5009 sec\n"
     ]
    },
    {
     "ename": "KeyboardInterrupt",
     "evalue": "",
     "output_type": "error",
     "traceback": [
      "\u001b[0;31m---------------------------------------------------------------------------\u001b[0m",
      "\u001b[0;31mKeyboardInterrupt\u001b[0m                         Traceback (most recent call last)",
      "\u001b[0;32m<ipython-input-13-fb7dbc86bf17>\u001b[0m in \u001b[0;36m<module>\u001b[0;34m()\u001b[0m\n\u001b[1;32m      4\u001b[0m \u001b[0mEPOCH\u001b[0m \u001b[0;34m=\u001b[0m \u001b[0;36m50\u001b[0m\u001b[0;34m\u001b[0m\u001b[0;34m\u001b[0m\u001b[0m\n\u001b[1;32m      5\u001b[0m \u001b[0moptimizer\u001b[0m \u001b[0;34m=\u001b[0m \u001b[0mAdam\u001b[0m\u001b[0;34m(\u001b[0m\u001b[0mmodel\u001b[0m\u001b[0;34m.\u001b[0m\u001b[0mparameters\u001b[0m\u001b[0;34m(\u001b[0m\u001b[0;34m)\u001b[0m\u001b[0;34m,\u001b[0m \u001b[0mlr\u001b[0m\u001b[0;34m=\u001b[0m\u001b[0;36m0.001\u001b[0m\u001b[0;34m,\u001b[0m \u001b[0mweight_decay\u001b[0m\u001b[0;34m=\u001b[0m\u001b[0;36m1e-4\u001b[0m\u001b[0;34m)\u001b[0m\u001b[0;34m\u001b[0m\u001b[0;34m\u001b[0m\u001b[0m\n\u001b[0;32m----> 6\u001b[0;31m \u001b[0mtrain\u001b[0m\u001b[0;34m(\u001b[0m\u001b[0mmodel\u001b[0m\u001b[0;34m,\u001b[0m\u001b[0mEPOCH\u001b[0m\u001b[0;34m,\u001b[0m\u001b[0mloss_func\u001b[0m\u001b[0;34m,\u001b[0m\u001b[0moptimizer\u001b[0m\u001b[0;34m,\u001b[0m\u001b[0mtrain_dl\u001b[0m\u001b[0;34m,\u001b[0m\u001b[0mtest_dl\u001b[0m\u001b[0;34m,\u001b[0m\u001b[0muse_valid\u001b[0m \u001b[0;34m=\u001b[0m \u001b[0;32mFalse\u001b[0m\u001b[0;34m)\u001b[0m\u001b[0;34m\u001b[0m\u001b[0;34m\u001b[0m\u001b[0m\n\u001b[0m",
      "\u001b[0;32m<ipython-input-12-c71f5b8638de>\u001b[0m in \u001b[0;36mtrain\u001b[0;34m(net, EPOCH, loss_func, optimizer, data_iter, valid_dl, use_valid)\u001b[0m\n\u001b[1;32m     30\u001b[0m         \u001b[0mstart\u001b[0m \u001b[0;34m=\u001b[0m \u001b[0mtime\u001b[0m\u001b[0;34m.\u001b[0m\u001b[0mtime\u001b[0m\u001b[0;34m(\u001b[0m\u001b[0;34m)\u001b[0m\u001b[0;34m\u001b[0m\u001b[0;34m\u001b[0m\u001b[0m\n\u001b[1;32m     31\u001b[0m         \u001b[0mtrain_lsum\u001b[0m\u001b[0;34m,\u001b[0m \u001b[0mn\u001b[0m \u001b[0;34m,\u001b[0m \u001b[0macc\u001b[0m \u001b[0;34m=\u001b[0m \u001b[0;36m0.0\u001b[0m\u001b[0;34m,\u001b[0m \u001b[0;36m0\u001b[0m\u001b[0;34m,\u001b[0m \u001b[0;36m0.0\u001b[0m\u001b[0;34m\u001b[0m\u001b[0;34m\u001b[0m\u001b[0m\n\u001b[0;32m---> 32\u001b[0;31m         \u001b[0;32mfor\u001b[0m \u001b[0mq1\u001b[0m\u001b[0;34m,\u001b[0m\u001b[0mq2\u001b[0m\u001b[0;34m,\u001b[0m\u001b[0mfeature\u001b[0m\u001b[0;34m,\u001b[0m\u001b[0my\u001b[0m \u001b[0;32min\u001b[0m \u001b[0mdata_iter\u001b[0m\u001b[0;34m:\u001b[0m\u001b[0;34m\u001b[0m\u001b[0;34m\u001b[0m\u001b[0m\n\u001b[0m\u001b[1;32m     33\u001b[0m             \u001b[0mnet\u001b[0m\u001b[0;34m.\u001b[0m\u001b[0mtrain\u001b[0m\u001b[0;34m(\u001b[0m\u001b[0;34m)\u001b[0m\u001b[0;34m\u001b[0m\u001b[0;34m\u001b[0m\u001b[0m\n\u001b[1;32m     34\u001b[0m             \u001b[0mq1\u001b[0m \u001b[0;34m=\u001b[0m \u001b[0mq1\u001b[0m\u001b[0;34m.\u001b[0m\u001b[0mlong\u001b[0m\u001b[0;34m(\u001b[0m\u001b[0;34m)\u001b[0m\u001b[0;34m.\u001b[0m\u001b[0mto\u001b[0m\u001b[0;34m(\u001b[0m\u001b[0mDEVICE\u001b[0m\u001b[0;34m)\u001b[0m\u001b[0;34m\u001b[0m\u001b[0;34m\u001b[0m\u001b[0m\n",
      "\u001b[0;32m~/anaconda3/lib/python3.6/site-packages/torch/utils/data/dataloader.py\u001b[0m in \u001b[0;36m__next__\u001b[0;34m(self)\u001b[0m\n\u001b[1;32m    613\u001b[0m         \u001b[0;32mif\u001b[0m \u001b[0mself\u001b[0m\u001b[0;34m.\u001b[0m\u001b[0mnum_workers\u001b[0m \u001b[0;34m==\u001b[0m \u001b[0;36m0\u001b[0m\u001b[0;34m:\u001b[0m  \u001b[0;31m# same-process loading\u001b[0m\u001b[0;34m\u001b[0m\u001b[0;34m\u001b[0m\u001b[0m\n\u001b[1;32m    614\u001b[0m             \u001b[0mindices\u001b[0m \u001b[0;34m=\u001b[0m \u001b[0mnext\u001b[0m\u001b[0;34m(\u001b[0m\u001b[0mself\u001b[0m\u001b[0;34m.\u001b[0m\u001b[0msample_iter\u001b[0m\u001b[0;34m)\u001b[0m  \u001b[0;31m# may raise StopIteration\u001b[0m\u001b[0;34m\u001b[0m\u001b[0;34m\u001b[0m\u001b[0m\n\u001b[0;32m--> 615\u001b[0;31m             \u001b[0mbatch\u001b[0m \u001b[0;34m=\u001b[0m \u001b[0mself\u001b[0m\u001b[0;34m.\u001b[0m\u001b[0mcollate_fn\u001b[0m\u001b[0;34m(\u001b[0m\u001b[0;34m[\u001b[0m\u001b[0mself\u001b[0m\u001b[0;34m.\u001b[0m\u001b[0mdataset\u001b[0m\u001b[0;34m[\u001b[0m\u001b[0mi\u001b[0m\u001b[0;34m]\u001b[0m \u001b[0;32mfor\u001b[0m \u001b[0mi\u001b[0m \u001b[0;32min\u001b[0m \u001b[0mindices\u001b[0m\u001b[0;34m]\u001b[0m\u001b[0;34m)\u001b[0m\u001b[0;34m\u001b[0m\u001b[0;34m\u001b[0m\u001b[0m\n\u001b[0m\u001b[1;32m    616\u001b[0m             \u001b[0;32mif\u001b[0m \u001b[0mself\u001b[0m\u001b[0;34m.\u001b[0m\u001b[0mpin_memory\u001b[0m\u001b[0;34m:\u001b[0m\u001b[0;34m\u001b[0m\u001b[0;34m\u001b[0m\u001b[0m\n\u001b[1;32m    617\u001b[0m                 \u001b[0mbatch\u001b[0m \u001b[0;34m=\u001b[0m \u001b[0mpin_memory_batch\u001b[0m\u001b[0;34m(\u001b[0m\u001b[0mbatch\u001b[0m\u001b[0;34m)\u001b[0m\u001b[0;34m\u001b[0m\u001b[0;34m\u001b[0m\u001b[0m\n",
      "\u001b[0;32m~/anaconda3/lib/python3.6/site-packages/torch/utils/data/dataloader.py\u001b[0m in \u001b[0;36mdefault_collate\u001b[0;34m(batch)\u001b[0m\n\u001b[1;32m    230\u001b[0m     \u001b[0;32melif\u001b[0m \u001b[0misinstance\u001b[0m\u001b[0;34m(\u001b[0m\u001b[0mbatch\u001b[0m\u001b[0;34m[\u001b[0m\u001b[0;36m0\u001b[0m\u001b[0;34m]\u001b[0m\u001b[0;34m,\u001b[0m \u001b[0mcontainer_abcs\u001b[0m\u001b[0;34m.\u001b[0m\u001b[0mSequence\u001b[0m\u001b[0;34m)\u001b[0m\u001b[0;34m:\u001b[0m\u001b[0;34m\u001b[0m\u001b[0;34m\u001b[0m\u001b[0m\n\u001b[1;32m    231\u001b[0m         \u001b[0mtransposed\u001b[0m \u001b[0;34m=\u001b[0m \u001b[0mzip\u001b[0m\u001b[0;34m(\u001b[0m\u001b[0;34m*\u001b[0m\u001b[0mbatch\u001b[0m\u001b[0;34m)\u001b[0m\u001b[0;34m\u001b[0m\u001b[0;34m\u001b[0m\u001b[0m\n\u001b[0;32m--> 232\u001b[0;31m         \u001b[0;32mreturn\u001b[0m \u001b[0;34m[\u001b[0m\u001b[0mdefault_collate\u001b[0m\u001b[0;34m(\u001b[0m\u001b[0msamples\u001b[0m\u001b[0;34m)\u001b[0m \u001b[0;32mfor\u001b[0m \u001b[0msamples\u001b[0m \u001b[0;32min\u001b[0m \u001b[0mtransposed\u001b[0m\u001b[0;34m]\u001b[0m\u001b[0;34m\u001b[0m\u001b[0;34m\u001b[0m\u001b[0m\n\u001b[0m\u001b[1;32m    233\u001b[0m \u001b[0;34m\u001b[0m\u001b[0m\n\u001b[1;32m    234\u001b[0m     \u001b[0;32mraise\u001b[0m \u001b[0mTypeError\u001b[0m\u001b[0;34m(\u001b[0m\u001b[0;34m(\u001b[0m\u001b[0merror_msg\u001b[0m\u001b[0;34m.\u001b[0m\u001b[0mformat\u001b[0m\u001b[0;34m(\u001b[0m\u001b[0mtype\u001b[0m\u001b[0;34m(\u001b[0m\u001b[0mbatch\u001b[0m\u001b[0;34m[\u001b[0m\u001b[0;36m0\u001b[0m\u001b[0;34m]\u001b[0m\u001b[0;34m)\u001b[0m\u001b[0;34m)\u001b[0m\u001b[0;34m)\u001b[0m\u001b[0;34m)\u001b[0m\u001b[0;34m\u001b[0m\u001b[0;34m\u001b[0m\u001b[0m\n",
      "\u001b[0;32m~/anaconda3/lib/python3.6/site-packages/torch/utils/data/dataloader.py\u001b[0m in \u001b[0;36m<listcomp>\u001b[0;34m(.0)\u001b[0m\n\u001b[1;32m    230\u001b[0m     \u001b[0;32melif\u001b[0m \u001b[0misinstance\u001b[0m\u001b[0;34m(\u001b[0m\u001b[0mbatch\u001b[0m\u001b[0;34m[\u001b[0m\u001b[0;36m0\u001b[0m\u001b[0;34m]\u001b[0m\u001b[0;34m,\u001b[0m \u001b[0mcontainer_abcs\u001b[0m\u001b[0;34m.\u001b[0m\u001b[0mSequence\u001b[0m\u001b[0;34m)\u001b[0m\u001b[0;34m:\u001b[0m\u001b[0;34m\u001b[0m\u001b[0;34m\u001b[0m\u001b[0m\n\u001b[1;32m    231\u001b[0m         \u001b[0mtransposed\u001b[0m \u001b[0;34m=\u001b[0m \u001b[0mzip\u001b[0m\u001b[0;34m(\u001b[0m\u001b[0;34m*\u001b[0m\u001b[0mbatch\u001b[0m\u001b[0;34m)\u001b[0m\u001b[0;34m\u001b[0m\u001b[0;34m\u001b[0m\u001b[0m\n\u001b[0;32m--> 232\u001b[0;31m         \u001b[0;32mreturn\u001b[0m \u001b[0;34m[\u001b[0m\u001b[0mdefault_collate\u001b[0m\u001b[0;34m(\u001b[0m\u001b[0msamples\u001b[0m\u001b[0;34m)\u001b[0m \u001b[0;32mfor\u001b[0m \u001b[0msamples\u001b[0m \u001b[0;32min\u001b[0m \u001b[0mtransposed\u001b[0m\u001b[0;34m]\u001b[0m\u001b[0;34m\u001b[0m\u001b[0;34m\u001b[0m\u001b[0m\n\u001b[0m\u001b[1;32m    233\u001b[0m \u001b[0;34m\u001b[0m\u001b[0m\n\u001b[1;32m    234\u001b[0m     \u001b[0;32mraise\u001b[0m \u001b[0mTypeError\u001b[0m\u001b[0;34m(\u001b[0m\u001b[0;34m(\u001b[0m\u001b[0merror_msg\u001b[0m\u001b[0;34m.\u001b[0m\u001b[0mformat\u001b[0m\u001b[0;34m(\u001b[0m\u001b[0mtype\u001b[0m\u001b[0;34m(\u001b[0m\u001b[0mbatch\u001b[0m\u001b[0;34m[\u001b[0m\u001b[0;36m0\u001b[0m\u001b[0;34m]\u001b[0m\u001b[0;34m)\u001b[0m\u001b[0;34m)\u001b[0m\u001b[0;34m)\u001b[0m\u001b[0;34m)\u001b[0m\u001b[0;34m\u001b[0m\u001b[0;34m\u001b[0m\u001b[0m\n",
      "\u001b[0;32m~/anaconda3/lib/python3.6/site-packages/torch/utils/data/dataloader.py\u001b[0m in \u001b[0;36mdefault_collate\u001b[0;34m(batch)\u001b[0m\n\u001b[1;32m    216\u001b[0m                 \u001b[0;32mraise\u001b[0m \u001b[0mTypeError\u001b[0m\u001b[0;34m(\u001b[0m\u001b[0merror_msg\u001b[0m\u001b[0;34m.\u001b[0m\u001b[0mformat\u001b[0m\u001b[0;34m(\u001b[0m\u001b[0melem\u001b[0m\u001b[0;34m.\u001b[0m\u001b[0mdtype\u001b[0m\u001b[0;34m)\u001b[0m\u001b[0;34m)\u001b[0m\u001b[0;34m\u001b[0m\u001b[0;34m\u001b[0m\u001b[0m\n\u001b[1;32m    217\u001b[0m \u001b[0;34m\u001b[0m\u001b[0m\n\u001b[0;32m--> 218\u001b[0;31m             \u001b[0;32mreturn\u001b[0m \u001b[0mtorch\u001b[0m\u001b[0;34m.\u001b[0m\u001b[0mstack\u001b[0m\u001b[0;34m(\u001b[0m\u001b[0;34m[\u001b[0m\u001b[0mtorch\u001b[0m\u001b[0;34m.\u001b[0m\u001b[0mfrom_numpy\u001b[0m\u001b[0;34m(\u001b[0m\u001b[0mb\u001b[0m\u001b[0;34m)\u001b[0m \u001b[0;32mfor\u001b[0m \u001b[0mb\u001b[0m \u001b[0;32min\u001b[0m \u001b[0mbatch\u001b[0m\u001b[0;34m]\u001b[0m\u001b[0;34m,\u001b[0m \u001b[0;36m0\u001b[0m\u001b[0;34m)\u001b[0m\u001b[0;34m\u001b[0m\u001b[0;34m\u001b[0m\u001b[0m\n\u001b[0m\u001b[1;32m    219\u001b[0m         \u001b[0;32mif\u001b[0m \u001b[0melem\u001b[0m\u001b[0;34m.\u001b[0m\u001b[0mshape\u001b[0m \u001b[0;34m==\u001b[0m \u001b[0;34m(\u001b[0m\u001b[0;34m)\u001b[0m\u001b[0;34m:\u001b[0m  \u001b[0;31m# scalars\u001b[0m\u001b[0;34m\u001b[0m\u001b[0;34m\u001b[0m\u001b[0m\n\u001b[1;32m    220\u001b[0m             \u001b[0mpy_type\u001b[0m \u001b[0;34m=\u001b[0m \u001b[0mfloat\u001b[0m \u001b[0;32mif\u001b[0m \u001b[0melem\u001b[0m\u001b[0;34m.\u001b[0m\u001b[0mdtype\u001b[0m\u001b[0;34m.\u001b[0m\u001b[0mname\u001b[0m\u001b[0;34m.\u001b[0m\u001b[0mstartswith\u001b[0m\u001b[0;34m(\u001b[0m\u001b[0;34m'float'\u001b[0m\u001b[0;34m)\u001b[0m \u001b[0;32melse\u001b[0m \u001b[0mint\u001b[0m\u001b[0;34m\u001b[0m\u001b[0;34m\u001b[0m\u001b[0m\n",
      "\u001b[0;31mKeyboardInterrupt\u001b[0m: "
     ]
    }
   ],
   "source": [
    "print('training on %d samples, validate on %d samples' %(TRAIN_SIZE,TEST_SIZE))\n",
    "loss_func = nn.CrossEntropyLoss(weight = torch.tensor([1.309028344,0.472001959]).to(DEVICE))\n",
    "model = LSTM_dis_angle(pretrained_weight = word_embedding_matrix,pretrained_embed = True).to(DEVICE)\n",
    "EPOCH = 50\n",
    "optimizer = Adam(model.parameters(), lr=0.001, weight_decay=1e-4)\n",
    "train(model,EPOCH,loss_func,optimizer,train_dl,test_dl,use_valid = False)"
   ]
  },
  {
   "cell_type": "markdown",
   "metadata": {},
   "source": [
    "### 提取所有训练数据的LSTM的中间表达\n"
   ]
  },
  {
   "cell_type": "code",
   "execution_count": 14,
   "metadata": {},
   "outputs": [
    {
     "name": "stderr",
     "output_type": "stream",
     "text": [
      "100%|██████████| 395/395 [04:56<00:00,  1.44s/it]\n",
      "100%|██████████| 1146/1146 [40:31<00:00,  4.22s/it]\n"
     ]
    }
   ],
   "source": [
    "model_dict = torch.load(os.path.join(MODEL_PATH, MODEL_NAME))\n",
    "model = LSTM_dis_angle()\n",
    "model.load_state_dict(model_dict)\n",
    "_,F_train = predict(model, all_dl)\n",
    "_,F_test = predict(model, predict_dl)"
   ]
  },
  {
   "cell_type": "code",
   "execution_count": 15,
   "metadata": {},
   "outputs": [],
   "source": [
    "np.save(open('data/tmp/train_dl_feature', 'wb'), F_train)\n",
    "np.save(open('data/tmp/test_dl_feature', 'wb'), F_test)"
   ]
  },
  {
   "cell_type": "code",
   "execution_count": null,
   "metadata": {},
   "outputs": [],
   "source": []
  }
 ],
 "metadata": {
  "kernelspec": {
   "display_name": "Python 3",
   "language": "python",
   "name": "python3"
  },
  "language_info": {
   "codemirror_mode": {
    "name": "ipython",
    "version": 3
   },
   "file_extension": ".py",
   "mimetype": "text/x-python",
   "name": "python",
   "nbconvert_exporter": "python",
   "pygments_lexer": "ipython3",
   "version": "3.6.8"
  }
 },
 "nbformat": 4,
 "nbformat_minor": 2
}
