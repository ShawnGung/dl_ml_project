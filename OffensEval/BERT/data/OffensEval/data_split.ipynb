{
 "cells": [
  {
   "cell_type": "markdown",
   "metadata": {},
   "source": [
    "### 分开三个Task文件"
   ]
  },
  {
   "cell_type": "code",
   "execution_count": 1,
   "metadata": {},
   "outputs": [],
   "source": [
    "import pandas as pd\n",
    "#labels change to int,for taskA\n",
    "path = 'offenseval-training-v1-processed.tsv'\n",
    "train=pd.read_csv(path, header=0)\n",
    "class_mapping1 = {'NOT':0, 'OFF':1}\n",
    "class_mapping2 = {'UNT':0, 'TIN':1}\n",
    "class_mapping3 = {'IND':0, 'GRP':1,'OTH':2}\n",
    "train['subtask_a'] = train['subtask_a'].map(class_mapping1)\n",
    "train['subtask_b'] = train['subtask_b'].map(class_mapping2)\n",
    "train['subtask_c'] = train['subtask_c'].map(class_mapping3)\n",
    "train[['subtask_b', 'subtask_c']] = train[['subtask_b', 'subtask_c']].fillna(-1)\n",
    "train[['subtask_b', 'subtask_c']] = train[['subtask_b', 'subtask_c']].astype(int, errors='ignore')\n",
    "train.to_csv('offenseval-training-vA.csv',index=0) #不保存行索引\n",
    "\n",
    "#for taskB\n",
    "path = 'offenseval-training-vA.csv'\n",
    "train=pd.read_csv(path, header=0)\n",
    "taskB_train = train.loc[train['subtask_a'] == 1]\n",
    "taskB_train.to_csv('offenseval-training-vB.csv',index=0) #不保存行索引\n",
    "\n",
    "#for taskC\n",
    "path = 'offenseval-training-vB.csv'\n",
    "train=pd.read_csv(path, header=0)\n",
    "taskC_train = train.loc[train['subtask_b'] == 1]\n",
    "taskC_train.to_csv('offenseval-training-vC.csv',index=0) #不保存行索引"
   ]
  },
  {
   "cell_type": "markdown",
   "metadata": {},
   "source": [
    "### 对每个任务构造对应BERT数据集"
   ]
  },
  {
   "cell_type": "code",
   "execution_count": 9,
   "metadata": {},
   "outputs": [],
   "source": [
    "import csv\n",
    "from sklearn.model_selection import train_test_split\n",
    "\n",
    "def split_train(train_filename, test_size):\n",
    "    labels = []\n",
    "    features = []\n",
    "    with open(train_filename, 'r', encoding='utf-8') as fh:\n",
    "        rowes = csv.reader(fh)\n",
    "        i = 1\n",
    "        for row in rowes:\n",
    "            if i == 1:\n",
    "                i += 1\n",
    "                continue\n",
    "            features.append(row[-1])\n",
    "            labels.append(row[3])\n",
    "            i += 1\n",
    "\n",
    "    x_train, x_test, y_train, y_test = train_test_split(features, labels, test_size=test_size)\n",
    "    \n",
    "    with open('Task_A/dev.tsv', 'w') as f:\n",
    "        dev_writer = csv.writer(f, delimiter='\\t')\n",
    "        dev_writer.writerow(['sentence', 'label'])\n",
    "        for i in range(len(x_test)):\n",
    "            dev_writer.writerow([x_test[i], y_test[i]])\n",
    "    \n",
    "    with open('Task_A/train.tsv', 'w') as f:\n",
    "        train_writer = csv.writer(f, delimiter='\\t')\n",
    "        train_writer.writerow(['sentence', 'label'])\n",
    "        for i in range(len(x_train)):\n",
    "            train_writer.writerow([x_train[i], y_train[i]])"
   ]
  },
  {
   "cell_type": "code",
   "execution_count": 10,
   "metadata": {},
   "outputs": [],
   "source": [
    "train_filename = 'offenseval-training-vA-processed.csv'\n",
    "\n",
    "split_train(train_filename, 0.03)"
   ]
  },
  {
   "cell_type": "code",
   "execution_count": null,
   "metadata": {},
   "outputs": [],
   "source": [
    "import csv\n",
    "from sklearn.model_selection import train_test_split\n",
    "\n",
    "def split_train(train_filename, test_size):\n",
    "    labels = []\n",
    "    features = []\n",
    "    with open(train_filename, 'r', encoding='utf-8') as fh:\n",
    "        rowes = csv.reader(fh)\n",
    "        i = 1\n",
    "        for row in rowes:\n",
    "            if i == 1:\n",
    "                i += 1\n",
    "                continue\n",
    "            features.append(row[-1])\n",
    "            labels.append(row[3])\n",
    "            i += 1\n",
    "\n",
    "    x_train, x_test, y_train, y_test = train_test_split(features, labels, test_size=test_size)\n",
    "    \n",
    "    with open('Task_B/dev.tsv', 'w') as f:\n",
    "        dev_writer = csv.writer(f, delimiter='\\t')\n",
    "        dev_writer.writerow(['sentence', 'label'])\n",
    "        for i in range(len(x_test)):\n",
    "            dev_writer.writerow([x_test[i], y_test[i]])\n",
    "    \n",
    "    with open('Task_B/train.tsv', 'w') as f:\n",
    "        train_writer = csv.writer(f, delimiter='\\t')\n",
    "        train_writer.writerow(['sentence', 'label'])\n",
    "        for i in range(len(x_train)):\n",
    "            train_writer.writerow([x_train[i], y_train[i]])"
   ]
  },
  {
   "cell_type": "code",
   "execution_count": null,
   "metadata": {},
   "outputs": [],
   "source": [
    "train_filename = 'offenseval-training-vB-processed.csv'\n",
    "\n",
    "split_train(train_filename, 0.03)"
   ]
  },
  {
   "cell_type": "code",
   "execution_count": null,
   "metadata": {},
   "outputs": [],
   "source": [
    "import csv\n",
    "from sklearn.model_selection import train_test_split\n",
    "\n",
    "def split_train(train_filename, test_size):\n",
    "    labels = []\n",
    "    features = []\n",
    "    with open(train_filename, 'r', encoding='utf-8') as fh:\n",
    "        rowes = csv.reader(fh)\n",
    "        i = 1\n",
    "        for row in rowes:\n",
    "            if i == 1:\n",
    "                i += 1\n",
    "                continue\n",
    "            features.append(row[-1])\n",
    "            labels.append(row[3])\n",
    "            i += 1\n",
    "\n",
    "    x_train, x_test, y_train, y_test = train_test_split(features, labels, test_size=test_size)\n",
    "    \n",
    "    with open('Task_C/dev.tsv', 'w') as f:\n",
    "        dev_writer = csv.writer(f, delimiter='\\t')\n",
    "        dev_writer.writerow(['sentence', 'label'])\n",
    "        for i in range(len(x_test)):\n",
    "            dev_writer.writerow([x_test[i], y_test[i]])\n",
    "    \n",
    "    with open('Task_C/train.tsv', 'w') as f:\n",
    "        train_writer = csv.writer(f, delimiter='\\t')\n",
    "        train_writer.writerow(['sentence', 'label'])\n",
    "        for i in range(len(x_train)):\n",
    "            train_writer.writerow([x_train[i], y_train[i]])"
   ]
  },
  {
   "cell_type": "code",
   "execution_count": null,
   "metadata": {},
   "outputs": [],
   "source": [
    "train_filename = 'offenseval-training-vC-processed.csv'\n",
    "\n",
    "split_train(train_filename, 0.03)"
   ]
  }
 ],
 "metadata": {
  "kernelspec": {
   "display_name": "Python 3",
   "language": "python",
   "name": "python3"
  },
  "language_info": {
   "codemirror_mode": {
    "name": "ipython",
    "version": 3
   },
   "file_extension": ".py",
   "mimetype": "text/x-python",
   "name": "python",
   "nbconvert_exporter": "python",
   "pygments_lexer": "ipython3",
   "version": "3.5.2"
  }
 },
 "nbformat": 4,
 "nbformat_minor": 2
}
